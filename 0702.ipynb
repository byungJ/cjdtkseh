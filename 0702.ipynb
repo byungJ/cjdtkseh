{
 "cells": [
  {
   "cell_type": "code",
   "execution_count": null,
   "metadata": {},
   "outputs": [],
   "source": [
    "#git commit -am \"dfjdfkdfkdjfk\""
   ]
  },
  {
   "cell_type": "code",
   "execution_count": 12,
   "metadata": {},
   "outputs": [
    {
     "name": "stdout",
     "output_type": "stream",
     "text": [
      "Count Down...10\n",
      "Count Down...9\n",
      "Count Down...8\n"
     ]
    },
    {
     "name": "stderr",
     "output_type": "stream",
     "text": [
      "Process countDown-18:\n",
      "Traceback (most recent call last):\n",
      "  File \"/home/bitai/anaconda3/lib/python3.7/multiprocessing/process.py\", line 297, in _bootstrap\n",
      "    self.run()\n",
      "  File \"<ipython-input-12-308545e0329e>\", line 16, in run\n",
      "    time.sleep(1)\n",
      "KeyboardInterrupt\n"
     ]
    }
   ],
   "source": [
    "import time\n",
    "import multiprocessing\n",
    "\n",
    "class countDown(multiprocessing.Process):\n",
    "    def __init__(self,x):\n",
    "        multiprocessing.Process.__init__(self)\n",
    "        self.x = x\n",
    "        \n",
    "    def run(self):\n",
    "        while True:\n",
    "            if self.x == 0:\n",
    "                break\n",
    "                \n",
    "            print(\"Count Down...%d\"%self.x)\n",
    "            self.x -= 1\n",
    "            time.sleep(1)\n",
    "                \n",
    "                \n",
    "p = countDown(10)\n",
    "p.start()"
   ]
  },
  {
   "cell_type": "code",
   "execution_count": 1,
   "metadata": {},
   "outputs": [
    {
     "name": "stdout",
     "output_type": "stream",
     "text": [
      "0702\n"
     ]
    }
   ],
   "source": [
    "print(\"0702\")"
   ]
  },
  {
   "cell_type": "code",
   "execution_count": 13,
   "metadata": {},
   "outputs": [
    {
     "name": "stdout",
     "output_type": "stream",
     "text": [
      "I m working : p1\n"
     ]
    },
    {
     "name": "stderr",
     "output_type": "stream",
     "text": [
      "Process Process-19:\n"
     ]
    },
    {
     "name": "stdout",
     "output_type": "stream",
     "text": [
      "I m working : p2\n"
     ]
    },
    {
     "name": "stderr",
     "output_type": "stream",
     "text": [
      "Traceback (most recent call last):\n",
      "  File \"/home/bitai/anaconda3/lib/python3.7/multiprocessing/process.py\", line 297, in _bootstrap\n",
      "    self.run()\n",
      "Process Process-20:\n"
     ]
    },
    {
     "name": "stdout",
     "output_type": "stream",
     "text": [
      "I m working : p3\n"
     ]
    },
    {
     "name": "stderr",
     "output_type": "stream",
     "text": [
      "  File \"/home/bitai/anaconda3/lib/python3.7/multiprocessing/process.py\", line 99, in run\n",
      "    self._target(*self._args, **self._kwargs)\n",
      "Traceback (most recent call last):\n",
      "Process Process-21:\n",
      "  File \"<ipython-input-13-32b357df5e2f>\", line 7, in process\n",
      "    time.sleeep(interval)\n",
      "Traceback (most recent call last):\n",
      "AttributeError: module 'time' has no attribute 'sleeep'\n",
      "  File \"/home/bitai/anaconda3/lib/python3.7/multiprocessing/process.py\", line 297, in _bootstrap\n",
      "    self.run()\n",
      "  File \"/home/bitai/anaconda3/lib/python3.7/multiprocessing/process.py\", line 297, in _bootstrap\n",
      "    self.run()\n",
      "  File \"/home/bitai/anaconda3/lib/python3.7/multiprocessing/process.py\", line 99, in run\n",
      "    self._target(*self._args, **self._kwargs)\n"
     ]
    },
    {
     "name": "stdout",
     "output_type": "stream",
     "text": [
      "I m working : p4\n"
     ]
    },
    {
     "name": "stderr",
     "output_type": "stream",
     "text": [
      "  File \"<ipython-input-13-32b357df5e2f>\", line 7, in process\n",
      "    time.sleeep(interval)\n",
      "AttributeError: module 'time' has no attribute 'sleeep'\n",
      "Process Process-22:\n",
      "Traceback (most recent call last):\n",
      "  File \"/home/bitai/anaconda3/lib/python3.7/multiprocessing/process.py\", line 297, in _bootstrap\n",
      "    self.run()\n",
      "  File \"/home/bitai/anaconda3/lib/python3.7/multiprocessing/process.py\", line 99, in run\n",
      "    self._target(*self._args, **self._kwargs)\n",
      "  File \"/home/bitai/anaconda3/lib/python3.7/multiprocessing/process.py\", line 99, in run\n",
      "    self._target(*self._args, **self._kwargs)\n",
      "  File \"<ipython-input-13-32b357df5e2f>\", line 7, in process\n",
      "    time.sleeep(interval)\n",
      "AttributeError: module 'time' has no attribute 'sleeep'\n",
      "  File \"<ipython-input-13-32b357df5e2f>\", line 7, in process\n",
      "    time.sleeep(interval)\n",
      "AttributeError: module 'time' has no attribute 'sleeep'\n"
     ]
    },
    {
     "name": "stdout",
     "output_type": "stream",
     "text": [
      "Main Thread.....\n",
      "Main Thread.....\n",
      "Main Thread.....\n",
      "Main Thread.....\n",
      "Main Thread.....\n",
      "Main Thread.....\n",
      "Main Thread.....\n",
      "Main Thread.....\n",
      "Main Thread.....\n",
      "Main Thread.....\n",
      "Main Thread.....\n",
      "Main Thread.....\n",
      "Main Thread.....\n",
      "Main Thread.....\n",
      "Main Thread.....\n",
      "Main Thread.....\n",
      "Main Thread.....\n",
      "Main Thread.....\n",
      "Main Thread.....\n",
      "Main Thread.....\n",
      "Main Thread.....\n",
      "Main Thread.....\n",
      "Main Thread.....\n",
      "Main Thread.....\n",
      "Main Thread.....\n",
      "Main Thread.....\n",
      "Main Thread.....\n",
      "Main Thread.....\n",
      "Main Thread.....\n",
      "Main Thread.....\n",
      "Main Thread.....\n",
      "Main Thread.....\n",
      "Main Thread.....\n",
      "Main Thread.....\n",
      "Main Thread.....\n",
      "Main Thread.....\n",
      "Main Thread.....\n",
      "Main Thread.....\n",
      "Main Thread.....\n",
      "Main Thread.....\n",
      "Main Thread.....\n",
      "Main Thread.....\n",
      "Main Thread.....\n",
      "Main Thread.....\n",
      "Main Thread.....\n",
      "Main Thread.....\n",
      "Main Thread.....\n",
      "Main Thread.....\n",
      "Main Thread.....\n",
      "Main Thread.....\n",
      "Main Thread.....\n",
      "Main Thread.....\n",
      "Main Thread.....\n",
      "Main Thread.....\n",
      "Main Thread.....\n",
      "Main Thread.....\n",
      "Main Thread.....\n",
      "Main Thread.....\n",
      "Main Thread.....\n",
      "Main Thread.....\n",
      "Main Thread.....\n",
      "Main Thread.....\n",
      "Main Thread.....\n",
      "Main Thread.....\n",
      "Main Thread.....\n",
      "Main Thread.....\n",
      "Main Thread.....\n",
      "Main Thread.....\n",
      "Main Thread.....\n",
      "Main Thread.....\n",
      "Main Thread.....\n",
      "Main Thread.....\n",
      "Main Thread.....\n",
      "Main Thread.....\n",
      "Main Thread.....\n",
      "Main Thread.....\n",
      "Main Thread.....\n",
      "Main Thread.....\n",
      "Main Thread.....\n",
      "Main Thread.....\n",
      "Main Thread.....\n",
      "Main Thread.....\n",
      "Main Thread.....\n",
      "Main Thread.....\n",
      "Main Thread.....\n",
      "Main Thread.....\n",
      "Main Thread.....\n",
      "Main Thread.....\n",
      "Main Thread.....\n",
      "Main Thread.....\n",
      "Main Thread.....\n",
      "Main Thread.....\n",
      "Main Thread.....\n",
      "Main Thread.....\n",
      "Main Thread.....\n",
      "Main Thread.....\n",
      "Main Thread.....\n",
      "Main Thread.....\n",
      "Main Thread.....\n",
      "Main Thread.....\n"
     ]
    }
   ],
   "source": [
    "import time\n",
    "import multiprocessing\n",
    "\n",
    "def process(message, interval):\n",
    "    while True:\n",
    "        print(\"I m working : %s\"% message)\n",
    "        time.sleeep(interval)\n",
    "        \n",
    "p1 = multiprocessing.Process(target = process, args = (\"p1\",1,))\n",
    "p2 = multiprocessing.Process(target = process, args = (\"p2\",1,))\n",
    "p3 = multiprocessing.Process(target = process, args = (\"p3\",1,))\n",
    "p4 = multiprocessing.Process(target = process, args = (\"p4\",1,))\n",
    "\n",
    "p1.start()\n",
    "p2.start()\n",
    "p3.start()\n",
    "p4.start()\n",
    "\n",
    "cnt = 0\n",
    "\n",
    "while cnt < 100:\n",
    "    cnt += 1\n",
    "    \n",
    "    print(\"Main Thread.....\")\n",
    "    time.sleep(1)"
   ]
  },
  {
   "cell_type": "code",
   "execution_count": null,
   "metadata": {},
   "outputs": [],
   "source": [
    "import time\n",
    "from multiprocessing import Pool\n",
    "\n",
    "pool= Pool(processes = 4)\n",
    "\n",
    "res.poll.apply_async(f, (10,))\n",
    "print(res.get(timeout =1))\n",
    "\n",
    "print(pool.map(f, range(10)))\n",
    "\n",
    "it = pool.imap(f, range(10))"
   ]
  },
  {
   "cell_type": "code",
   "execution_count": 18,
   "metadata": {},
   "outputs": [
    {
     "name": "stdout",
     "output_type": "stream",
     "text": [
      "Final Money = 20000\n",
      "Final Money = 20000\n",
      "Final Money = 20000\n",
      "Final Money = 20000\n",
      "Final Money = 20000\n",
      "Final Money = 20000\n",
      "Final Money = 20000\n",
      "Final Money = 20000\n",
      "Final Money = 20000\n",
      "Final Money = 20000\n"
     ]
    }
   ],
   "source": [
    "import multiprocessing as mp\n",
    "\n",
    "def withdraw(money,lock):\n",
    "    for _ in range(20000):\n",
    "        lock.acquire()\n",
    "        money.value -= 1\n",
    "        lock.release()\n",
    "def deposit(money,lock):\n",
    "    for _ in range(20000):\n",
    "        lock.acquire()\n",
    "        money.value += 1\n",
    "        lock.release()\n",
    "\n",
    "def perform_process():\n",
    "    money = multiprocessing.Value('i',20000)\n",
    "    \n",
    "    lock = mp.Lock()\n",
    "    \n",
    "    \n",
    "    p1 = mp.Process(target = withdraw, args=(money,lock,))\n",
    "    p2 = mp.Process(target = deposit, args=(money,lock,))\n",
    "        \n",
    "    p1.start()\n",
    "    p2.start()\n",
    "    \n",
    "    p1.join()\n",
    "    p2.join()\n",
    "    \n",
    "    print(\"Final Money = {}\".format(money.value))\n",
    "    \n",
    "for _ in range(10):\n",
    "    perform_process()"
   ]
  },
  {
   "cell_type": "code",
   "execution_count": 23,
   "metadata": {},
   "outputs": [
    {
     "name": "stdout",
     "output_type": "stream",
     "text": [
      "[time:Thu Jul  2 15:03:19 2020][tid:140427529262848]Thread!\n",
      "\n",
      "[time:Thu Jul  2 15:03:19 2020][tid:140427537655552]Thread!\n",
      "\n",
      "[time:Thu Jul  2 15:03:19 2020][tid:140427546048256]Thread!\n",
      "\n",
      "[time:Thu Jul  2 15:03:19 2020][tid:140426975639296]Thread!\n",
      "\n",
      "[time:Thu Jul  2 15:03:19 2020][tid:140428091311872]Thread!\n",
      "\n",
      "[time:Thu Jul  2 15:03:19 2020][tid:140428082919168]Thread!\n",
      "\n",
      "[time:Thu Jul  2 15:03:19 2020][tid:140428074526464]Thread!\n",
      "\n",
      "[time:Thu Jul  2 15:03:19 2020][tid:140428066133760]Thread!\n",
      "\n",
      "[time:Thu Jul  2 15:03:19 2020][tid:140427579619072]Thread!\n",
      "\n",
      "[time:Thu Jul  2 15:03:19 2020][tid:140427571226368]Thread!\n",
      "\n",
      "[time:Thu Jul  2 15:03:19 2020][tid:140427562833664]Thread!\n",
      "\n",
      "[time:Thu Jul  2 15:03:19 2020][tid:140427554440960]Thread!\n",
      "\n"
     ]
    }
   ],
   "source": [
    "import time\n",
    "import threading\n",
    "\n",
    "class DummyThread(threading.Thread):\n",
    "    def run(self):\n",
    "        now = time.ctime()\n",
    "        print(\"[time:%s][tid:%d]Thread!\\n\"%(now,self.ident))\n",
    "        time.sleep(30)\n",
    "for _ in range(12):\n",
    "    t =DummyThread()\n",
    "    t.start()"
   ]
  },
  {
   "cell_type": "code",
   "execution_count": 38,
   "metadata": {},
   "outputs": [
    {
     "name": "stdout",
     "output_type": "stream",
     "text": [
      "x= 1523555 after Iteration 0\n",
      "x= 1688824 after Iteration 1\n",
      "x= 1632472 after Iteration 2\n",
      "x= 1680001 after Iteration 3\n",
      "x= 1594931 after Iteration 4\n",
      "x= 1531231 after Iteration 5\n",
      "x= 1547481 after Iteration 6\n",
      "x= 1404272 after Iteration 7\n",
      "x= 1543642 after Iteration 8\n",
      "x= 1530412 after Iteration 9\n"
     ]
    }
   ],
   "source": [
    "import threading\n",
    "\n",
    "x =0\n",
    "\n",
    "def increment_global():\n",
    "    global x \n",
    "    x += 1\n",
    "        \n",
    "        \n",
    "        \n",
    "def taskOfThread():\n",
    "    for _ in range(1000000):\n",
    "        increment_global()\n",
    "    \n",
    "def thread_main():\n",
    "    global x \n",
    "    x =0\n",
    "    \n",
    "    t1 = threading.Thread(target = taskOfThread)\n",
    "    \n",
    "    t2 = threading.Thread(target = taskOfThread)\n",
    "    \n",
    "    t1.start()\n",
    "    t2.start()\n",
    "    \n",
    "    t1.join()\n",
    "    t2.join()\n",
    "    \n",
    "for i in range(10):\n",
    "    thread_main()\n",
    "    print(\"x= {1} after Iteration {0}\".format(i,x))"
   ]
  },
  {
   "cell_type": "code",
   "execution_count": null,
   "metadata": {},
   "outputs": [],
   "source": []
  },
  {
   "cell_type": "code",
   "execution_count": 39,
   "metadata": {},
   "outputs": [
    {
     "name": "stdout",
     "output_type": "stream",
     "text": [
      "x= 2000000 after Iteration 0\n",
      "x= 2000000 after Iteration 1\n",
      "x= 2000000 after Iteration 2\n",
      "x= 2000000 after Iteration 3\n",
      "x= 2000000 after Iteration 4\n",
      "x= 2000000 after Iteration 5\n",
      "x= 2000000 after Iteration 6\n",
      "x= 2000000 after Iteration 7\n",
      "x= 2000000 after Iteration 8\n",
      "x= 2000000 after Iteration 9\n"
     ]
    }
   ],
   "source": [
    "import threading\n",
    "\n",
    "x =0\n",
    "lock = threading.Lock()\n",
    "\n",
    "def increment_global():\n",
    "    global x \n",
    "    x += 1\n",
    "        \n",
    "        \n",
    "        \n",
    "def taskOfThread():\n",
    "    lock.acquire()\n",
    "    for _ in range(1000000):\n",
    "        increment_global()\n",
    "    lock.release()\n",
    "\n",
    "    \n",
    "def thread_main():\n",
    "    global x \n",
    "    x =0\n",
    "    \n",
    "    t1 = threading.Thread(target = taskOfThread)\n",
    "    \n",
    "    t2 = threading.Thread(target = taskOfThread)\n",
    "    \n",
    "    t1.start()\n",
    "    t2.start()\n",
    "    \n",
    "    t1.join()\n",
    "    t2.join()\n",
    "    \n",
    "for i in range(10):\n",
    "    thread_main()\n",
    "    print(\"x= {1} after Iteration {0}\".format(i,x))"
   ]
  },
  {
   "cell_type": "code",
   "execution_count": 45,
   "metadata": {},
   "outputs": [
    {
     "name": "stdout",
     "output_type": "stream",
     "text": [
      "Worker Process is for 3: 7740\n",
      "Worker Process is for 2: 7739\n",
      "Worker Process is for 1: 7738\n",
      "Worker Process is for 4: 7741\n",
      "Worker Process is for 5: 7742\n",
      "[1, 4, 9, 16, 25]\n"
     ]
    }
   ],
   "source": [
    "import os\n",
    "import multiprocessing\n",
    "\n",
    "def square(x):\n",
    "    return x * x\n",
    "myList=[1,2,3,4,5]\n",
    "\n",
    "res= []\n",
    "\n",
    "for num in myList:\n",
    "    res.append(square(num))\n",
    "\n",
    "def square(n):\n",
    "    print(\"Worker Process is for {0}: {1}\".format(n, os.getpid()))\n",
    "    return n * n\n",
    "\n",
    "p= multiprocessing.Pool()\n",
    "res = p.map(square,myList)\n",
    "\n",
    "\n",
    "print(res)"
   ]
  },
  {
   "cell_type": "code",
   "execution_count": 46,
   "metadata": {},
   "outputs": [
    {
     "ename": "SyntaxError",
     "evalue": "invalid syntax (<ipython-input-46-bc29538096c8>, line 9)",
     "output_type": "error",
     "traceback": [
      "\u001b[0;36m  File \u001b[0;32m\"<ipython-input-46-bc29538096c8>\"\u001b[0;36m, line \u001b[0;32m9\u001b[0m\n\u001b[0;31m    def__init__(self):\u001b[0m\n\u001b[0m                      ^\u001b[0m\n\u001b[0;31mSyntaxError\u001b[0m\u001b[0;31m:\u001b[0m invalid syntax\n"
     ]
    }
   ],
   "source": [
    "import threading\n",
    "import time\n",
    "import logging\n",
    "\n",
    "logging.basicConfig(level = logging.DEBUG, format='(%(threadName)-9s)')\n",
    "\n",
    "\n",
    "class ThreadPoll(object):\n",
    "    def__init__(self):\n",
    "        super\n",
    "        self.active\n",
    "        self.lock\n",
    "    def makActive(self, name):\n",
    "        with self.lock:\n",
    "            self.active.append(name)\n",
    "            \n",
    "            time.sleep(5)\n",
    "            logging.debug('Runnig:%s',self.active)\n",
    "            \n",
    "            \n",
    "for i in range(10):\n",
    "    t = threading.Thread(target = f, name = 'thread_' +str(i),args = (s,pool)\n",
    "    t.start()"
   ]
  },
  {
   "cell_type": "code",
   "execution_count": null,
   "metadata": {},
   "outputs": [],
   "source": []
  }
 ],
 "metadata": {
  "kernelspec": {
   "display_name": "Python 3",
   "language": "python",
   "name": "python3"
  },
  "language_info": {
   "codemirror_mode": {
    "name": "ipython",
    "version": 3
   },
   "file_extension": ".py",
   "mimetype": "text/x-python",
   "name": "python",
   "nbconvert_exporter": "python",
   "pygments_lexer": "ipython3",
   "version": "3.7.6"
  }
 },
 "nbformat": 4,
 "nbformat_minor": 4
}
